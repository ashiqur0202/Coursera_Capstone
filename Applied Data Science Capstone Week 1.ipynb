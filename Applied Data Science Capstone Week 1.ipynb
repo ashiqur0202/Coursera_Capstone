{
 "cells": [
  {
   "cell_type": "markdown",
   "id": "1770d3d4-1094-4921-9737-5cfffa714d87",
   "metadata": {},
   "source": [
    "# Applied Data Science Capstone Week 1"
   ]
  },
  {
   "cell_type": "markdown",
   "id": "5180c9b9-f960-40ee-9f57-93f88876eb4e",
   "metadata": {},
   "source": [
    "### This notebook will be mainly used for the capstone project"
   ]
  },
  {
   "cell_type": "code",
   "execution_count": 2,
   "id": "08fdd568-a4ed-40ae-bbb9-d6f28a08c1e7",
   "metadata": {},
   "outputs": [],
   "source": [
    "# Importing Pandas Library\n",
    "import pandas as pd"
   ]
  },
  {
   "cell_type": "code",
   "execution_count": 3,
   "id": "d9cdaaa3-350d-42b5-b01e-669e922cad2c",
   "metadata": {},
   "outputs": [],
   "source": [
    "# Importing NumPy Library\n",
    "import numpy as np"
   ]
  },
  {
   "cell_type": "code",
   "execution_count": 4,
   "id": "4bc04906-ad41-4dcb-9393-9964e0f19df6",
   "metadata": {},
   "outputs": [
    {
     "name": "stdout",
     "output_type": "stream",
     "text": [
      "Hello Capstone Project Course!\n"
     ]
    }
   ],
   "source": [
    "print(\"Hello Capstone Project Course!\")"
   ]
  }
 ],
 "metadata": {
  "kernelspec": {
   "display_name": "Python 3",
   "language": "python",
   "name": "python3"
  },
  "language_info": {
   "codemirror_mode": {
    "name": "ipython",
    "version": 3
   },
   "file_extension": ".py",
   "mimetype": "text/x-python",
   "name": "python",
   "nbconvert_exporter": "python",
   "pygments_lexer": "ipython3",
   "version": "3.8.8"
  }
 },
 "nbformat": 4,
 "nbformat_minor": 5
}
