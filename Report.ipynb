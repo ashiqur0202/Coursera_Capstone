{
 "cells": [
  {
   "cell_type": "markdown",
   "id": "8689a05e-df10-40f9-88ad-fa0cfe0e0942",
   "metadata": {},
   "source": [
    "<h1><center>Story of two cities</center></h1>"
   ]
  },
  {
   "cell_type": "markdown",
   "id": "e10896bc-1d5d-4c43-a0e7-415889717b3e",
   "metadata": {},
   "source": [
    "### Neighborhoods of London and Paris\n",
    "This is the story of two cities, a novel written by Ashiqur Rahman. The cities are London and Pars.\n",
    "\n",
    "The cities are very much popular tourist and vacation destinations for people all around the world."
   ]
  },
  {
   "cell_type": "markdown",
   "id": "d78579af-4826-4ffa-90b7-1ecae9b1b0b2",
   "metadata": {},
   "source": [
    "### Business Problem\n",
    "\n",
    "Here we are going to help tourists. We will helps them to make decisions.\n",
    "\n",
    "Our research will help them to make informed decisions."
   ]
  },
  {
   "cell_type": "markdown",
   "id": "a5b036b6-e7f3-4441-aef1-db057825a533",
   "metadata": {},
   "source": [
    "### Data\n",
    "\n",
    "Here are two cities data\n",
    "\n",
    "one are : https://en.wikipedia.org/wiki/List_of_areas_of_London\n",
    "\n",
    "others : https://www.data.gouv.fr/fr/datasets/r/e88c6fda-1d09-42a0-a069-606d3259114e"
   ]
  },
  {
   "cell_type": "markdown",
   "id": "c324eb7b-79a9-4f6e-8c1b-1e042f9f4418",
   "metadata": {},
   "source": [
    "### Methodology\n",
    "\n",
    "We will use python for the analysis. Here I am importing all the required packages.\n",
    "\n",
    "> import pandas as pd <br>\n",
    "import requests<br>\n",
    "import numpy as np<br>\n",
    "import matplotlib.cm as cm<br>\n",
    "import matplotlib.colors as colors<br>\n",
    "import folium from sklearn.cluster import KMeans<br>"
   ]
  },
  {
   "cell_type": "markdown",
   "id": "99c0fc7d-5961-48e8-b765-84d7db0f4803",
   "metadata": {},
   "source": [
    "### Results\n",
    "\n",
    "The two cities are very popular and multicultural though there are a lot of difference. London has much more restaurants, bars, juice bars, coffee shops, fish and chips shop.\n",
    "\n",
    "Paris is small city. It has a wide variety. There are a lot of spots like Restaurants and bars, Plaza, Trails, Parks, Historic sites, cloths shops, art galleries and museums and so on."
   ]
  },
  {
   "cell_type": "markdown",
   "id": "0e26d884-1ec4-4ddd-8071-448a0d9ae646",
   "metadata": {},
   "source": [
    "### Conclusion\n",
    "The purpose of this project was to explore the cities of London and Paris and see how attractive it is to potential tourists and migrants. Both Paris and London seem to offer a vacation stay or a romantic getaway with a lot of places to explore, beautiful landscapes, amazing food and a wide variety of culture. Overall, it’s up-to-the stakeholders to decide which experience they would prefer more and which would more to their liking."
   ]
  }
 ],
 "metadata": {
  "kernelspec": {
   "display_name": "Python 3",
   "language": "python",
   "name": "python3"
  },
  "language_info": {
   "codemirror_mode": {
    "name": "ipython",
    "version": 3
   },
   "file_extension": ".py",
   "mimetype": "text/x-python",
   "name": "python",
   "nbconvert_exporter": "python",
   "pygments_lexer": "ipython3",
   "version": "3.8.8"
  }
 },
 "nbformat": 4,
 "nbformat_minor": 5
}
